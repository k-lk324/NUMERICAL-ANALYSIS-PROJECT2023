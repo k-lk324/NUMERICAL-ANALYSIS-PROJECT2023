{
 "cells": [
  {
   "cell_type": "markdown",
   "id": "624ea5fa",
   "metadata": {},
   "source": [
    "# Εργασία Αριθμητικής Ανάλυσης 2023\n",
    "### Αικατερίνη Παπαγιαννίτση"
   ]
  },
  {
   "cell_type": "markdown",
   "id": "36818dae",
   "metadata": {},
   "source": [
    "## Παραγοντοποιήσεις LU και QR"
   ]
  },
  {
   "cell_type": "code",
   "execution_count": 1,
   "id": "bbbce5fd",
   "metadata": {},
   "outputs": [],
   "source": [
    "import numpy as np\n",
    "\n",
    "def LUmine(A):\n",
    "    n = A.shape[0]\n",
    "    A_copy = A.copy()\n",
    "    L = np.matrix(np.identity(n))\n",
    "    U = A_copy\n",
    "\n",
    "    for j in range(0,n - 1):\n",
    "        for i in range(j + 1, n):\n",
    "            mult = A_copy[i, j] / A_copy[j, j]\n",
    "            A_copy[i, j+1:n] = A_copy[i, j+1:n] - mult * A_copy[j, j+1:n]\n",
    "            U[i, j+1:n] = A_copy[i, j+1:n]\n",
    "            L[i, j] = mult\n",
    "            U[i,j] = 0\n",
    "    return L, U\n",
    "\n",
    "\n",
    "def QRmine(A):\n",
    "    n = A.shape[0]\n",
    "    Q = np.matrix(np.zeros((n, n)))\n",
    "    R = np.matrix(np.zeros((n, n)))\n",
    "\n",
    "    for j in range(n):\n",
    "        q = A[:, j]\n",
    "        for i in range(j):\n",
    "            length_of_leg = np.sum(A[:, j].T * Q[:, i])\n",
    "            q = q - length_of_leg * Q[:, i]\n",
    "\n",
    "        try:\n",
    "            Q[:, j] = q / np.linalg.norm(q)\n",
    "        except ZeroDivisionError:\n",
    "            print(\"Division with zero is not allowed\")\n",
    "\n",
    "    for j in range(n):\n",
    "        for i in range(j + 1):\n",
    "            R[i, j] = np.sum(A[:, j].T * Q[:, i])\n",
    "\n",
    "    return Q, R\n",
    "\n"
   ]
  },
  {
   "cell_type": "markdown",
   "id": "bdce5517",
   "metadata": {},
   "source": [
    "Για να ελέγθει ο κώδικας, χρησιμοποίησα πίνακες `Α` με τυχαία στοιχεία, διαστάσεων 2 εώς 10. "
   ]
  },
  {
   "cell_type": "code",
   "execution_count": 2,
   "id": "f9a809d7",
   "metadata": {},
   "outputs": [
    {
     "name": "stdout",
     "output_type": "stream",
     "text": [
      "3.614624287906422e-15\n",
      "5.515473566030869e-15\n",
      "4.3933981422767584e-14\n",
      "1.1039882692159655e-14\n",
      "1.6329716405008086e-14\n",
      "5.054962995081618e-13\n",
      "1.2742540934102932e-13\n",
      "9.305530172298683e-15\n",
      "9.38985587779853e-13\n"
     ]
    }
   ],
   "source": [
    "import random\n",
    "for a in range(2,11): # Για πίνακες διαστάσεων 2..10\n",
    "    A = np.matrix(np.zeros((a,a)))\n",
    "    \n",
    "    # Δημιουργία πινάκων τυχαίων στοιχείων\n",
    "    for i in range(0,a):\n",
    "        for j in range(0,a):\n",
    "            A[i,j] = random.random()*10            \n",
    "            \n",
    "    Q,R = QRmine(A)\n",
    "    print(np.linalg.norm(A - Q*R))"
   ]
  },
  {
   "cell_type": "markdown",
   "id": "7548338b",
   "metadata": {},
   "source": [
    "## Πίνακες Hilbert"
   ]
  },
  {
   "cell_type": "markdown",
   "id": "4df93a7c",
   "metadata": {},
   "source": [
    "**(α):** Παρακάτω υλοποιείται ο κώδικας δημιουργίας πινάκων Hilbert διαστάσεων nxn μέσω της συνάρτησης `hilbert(n)`. Ως όρισμα παίρνει τον θετικό ακέραιο αριθμό `n` για το μέγεθος του πίνακα. Κάθε στοιχείο ενός πίνακα `Η` παίρνει την τιμή `1/(i+j+1)`. Επιστρέφει τον πίνακα `H`."
   ]
  },
  {
   "cell_type": "code",
   "execution_count": 3,
   "id": "9f6af57b",
   "metadata": {},
   "outputs": [
    {
     "name": "stdout",
     "output_type": "stream",
     "text": [
      "[[1.         0.5        0.33333333 0.25      ]\n",
      " [0.5        0.33333333 0.25       0.2       ]\n",
      " [0.33333333 0.25       0.2        0.16666667]\n",
      " [0.25       0.2        0.16666667 0.14285714]] \n",
      "\n",
      "[[1.         0.5        0.33333333 0.25       0.2        0.16666667]\n",
      " [0.5        0.33333333 0.25       0.2        0.16666667 0.14285714]\n",
      " [0.33333333 0.25       0.2        0.16666667 0.14285714 0.125     ]\n",
      " [0.25       0.2        0.16666667 0.14285714 0.125      0.11111111]\n",
      " [0.2        0.16666667 0.14285714 0.125      0.11111111 0.1       ]\n",
      " [0.16666667 0.14285714 0.125      0.11111111 0.1        0.09090909]]\n"
     ]
    }
   ],
   "source": [
    "def hilbert(n):\n",
    "    try:\n",
    "        H = np.matrix(np.zeros((n, n))) \n",
    "        for i in range(n):\n",
    "            for j in range(n):\n",
    "                H[i, j] = 1 / (i + j + 1)\n",
    "        return H\n",
    "    except TypeError:\n",
    "        print(\"Argument n should be a positive integer\")\n",
    "\n",
    "# Παράδειγματα\n",
    "n = 4\n",
    "H = hilbert(n)\n",
    "print(H,'\\n')\n",
    "\n",
    "n = 6\n",
    "H = hilbert(n)\n",
    "print(H)"
   ]
  },
  {
   "cell_type": "markdown",
   "id": "e47bd730",
   "metadata": {},
   "source": [
    "**(β):** Για να λυθεί το σύστημα `Hx = b`, όπου `b` ένα διάνυσμα με στοιχεία ίσα με 1, κάνουμε την εξής διαδικασία. Χρησιμοποιούμε την συνάρτηση `LUmine`, ώστε να πάρουμε τον πίνακα `Η` ως γινόμενο του κατωτριγωνικού πίνακα `L` και ανωτριγωνικού πίνακα `U`. Βρίσκουμε το νέο διάνυσμα σταθερών όρων `y` και έπειτα λύνουμε ως προς το διάνυσμα `x`."
   ]
  },
  {
   "cell_type": "code",
   "execution_count": 4,
   "id": "f5a657b8",
   "metadata": {},
   "outputs": [
    {
     "name": "stdout",
     "output_type": "stream",
     "text": [
      "x (with LU method) =\n",
      " [[-6.000e+00]\n",
      " [ 2.100e+02]\n",
      " [-1.680e+03]\n",
      " [ 5.040e+03]\n",
      " [-6.300e+03]\n",
      " [ 2.772e+03]]\n"
     ]
    }
   ],
   "source": [
    "n = 6\n",
    "H = hilbert(n)\n",
    "b = np.matrix(np.ones((n, 1)))\n",
    "\n",
    "# Λύση με LU παραγοντοποίηση\n",
    "L, U = LUmine(H)\n",
    "y = np.linalg.solve(L, b)\n",
    "x = np.linalg.solve(U, y)\n",
    "\n",
    "print(\"x (with LU method) =\\n\", x)"
   ]
  },
  {
   "cell_type": "markdown",
   "id": "c3a10747",
   "metadata": {},
   "source": [
    "**(γ):** Αλλάζουμε την τιμή του πρώτου στοιχείου του `b` κατά ένα πολύ μικρό ποσό (στην συγκεκριμένη περίπτωση προσθέτουμε σε αυτό τον αριθμό 1e-15 όπως στην εκφώνηση). Κατόπιν, λύνουμε το σύστημα `Hxnew = bnew`.\n"
   ]
  },
  {
   "cell_type": "code",
   "execution_count": 5,
   "id": "6cef3e00",
   "metadata": {},
   "outputs": [
    {
     "name": "stdout",
     "output_type": "stream",
     "text": [
      "Maximum absolute difference: 2.8194335754960775e-11\n"
     ]
    }
   ],
   "source": [
    "bnew = b.copy()\n",
    "bnew[0] += 1e-15\n",
    "\n",
    "ynew = np.linalg.solve(L, bnew)\n",
    "xnew = np.linalg.solve(U, ynew)\n",
    "\n",
    "max_diff = np.max(np.abs(x - xnew))\n",
    "print(\"Maximum absolute difference:\", max_diff)\n"
   ]
  },
  {
   "cell_type": "markdown",
   "id": "1101390b",
   "metadata": {},
   "source": [
    "Στις περισσότερες καταστάσεις/συστήματα μια μεταβολή 1e-15 θα θεωρούταν αμελητέα, αλλά παρατηρώ πως η μέγιστη απόλυτη διαφορά, αν και ακόμα μικρή, είναι 4 τάξεις μεγαλύτερη από την μεταβολή που προκαλέσαμε στο σύστημα (για `n=6`). "
   ]
  },
  {
   "cell_type": "markdown",
   "id": "57c415e0",
   "metadata": {},
   "source": [
    "**(δ):** Στον παρακάτω κώδικα σχεδιάζουμε ένα διάγραμμα με τις τιμές του n  στον οριζόντιο άξονα και τις τιμές της μέγιστης απόλυτης διαφοράς στον κατακόρυφο άξονα."
   ]
  },
  {
   "cell_type": "code",
   "execution_count": 6,
   "id": "ffa25165",
   "metadata": {},
   "outputs": [
    {
     "data": {
      "image/png": "[encoded data removed]",
      "text/plain": [
       "<Figure size 640x480 with 1 Axes>"
      ]
     },
     "metadata": {},
     "output_type": "display_data"
    }
   ],
   "source": [
    "import matplotlib.pyplot as plt\n",
    "\n",
    "n_values = np.arange(1, 15) # διαστάσεις 1..14\n",
    "#print(n_values)\n",
    "differences = []\n",
    "\n",
    "for n in n_values:\n",
    "    H = hilbert(n)\n",
    "    b = np.ones((n, 1))\n",
    "\n",
    "    # Αρχική λύση συστήματος\n",
    "    L, U = LUmine(H)\n",
    "    y = np.linalg.solve(L, b)\n",
    "    x = np.linalg.solve(U, y)\n",
    "\n",
    "    # Αλλαγή πίνακα σταθερών τιμών \n",
    "    bnew = b.copy()\n",
    "    bnew[0] += 1e-15\n",
    "\n",
    "    # Λύση νέου συστήματος\n",
    "    ynew = np.linalg.solve(L, bnew)\n",
    "    xnew = np.linalg.solve(U, ynew)\n",
    "\n",
    "    max_diff = np.max(np.abs(x - xnew))\n",
    "    differences.append(max_diff)\n",
    "\n",
    "plt.plot(n_values, differences)\n",
    "plt.xlabel('n')\n",
    "plt.ylabel('Maximum Absolute Difference')\n",
    "plt.show()\n"
   ]
  },
  {
   "cell_type": "markdown",
   "id": "beb731ce",
   "metadata": {},
   "source": [
    "Παρατηρούμε πως με την αύξηση του n, μια απειροελάχιστη μεταβολή στο σύστημα προκαλεί μεγάλες μεταβολές στην λύση του. Έτσι, συμπεραίνουμε πως το σύστημα `Hx = b` είναι αριθμητικά ασταθές για μεγάλα n και ότι η ακρίβεια της λύσης μειώνεται."
   ]
  },
  {
   "cell_type": "markdown",
   "id": "0010508f",
   "metadata": {},
   "source": [
    "**(ε):** Υπολογίζουμε το `HH^(-1)` και σχεδιάζουμε την απόλυτη διαφορά της νόρμας του με μοναδιαίο πίνακα διαφόρων διαστάσεων"
   ]
  },
  {
   "cell_type": "code",
   "execution_count": 7,
   "id": "62929d36",
   "metadata": {},
   "outputs": [
    {
     "data": {
      "image/png": "[encoded data removed]",
      "text/plain": [
       "<Figure size 640x480 with 1 Axes>"
      ]
     },
     "metadata": {},
     "output_type": "display_data"
    }
   ],
   "source": [
    "diffs = []\n",
    "\n",
    "for n in n_values:\n",
    "    H = hilbert(n)\n",
    "    H_inv = np.matrix(np.linalg.inv(H))\n",
    "\n",
    "    identity = np.matrix(np.identity(n)) # μοναδιαίος πίνακας διάστασης n\n",
    "    norm_diff = np.linalg.norm(identity - H * H_inv)\n",
    "    diffs.append(norm_diff)\n",
    "\n",
    "plt.plot(n_values, diffs)\n",
    "plt.xlabel('n')\n",
    "plt.ylabel('2-Norm Difference')\n",
    "plt.show()\n"
   ]
  },
  {
   "cell_type": "markdown",
   "id": "d085d4c3",
   "metadata": {},
   "source": [
    "Από την γραφική παράσταση παρατηρούμε όσο αυξάνεται η διάσταση `n` του πίνακα Η, αυξάνεται και η διαφορά της νόρμας του `HH^(-1)` με τον μοναδιαίο πίνακα. Άρα, συμπεραίνουμε ότι η διαδικασία αντιστροφής πινάκων Hilbert γίνεται ολοένα και λιγότερο ακριβής με την αύξηση του `n`."
   ]
  },
  {
   "cell_type": "markdown",
   "id": "ce8ecfb5",
   "metadata": {},
   "source": [
    "## Πρόβλημα προσέγγισης"
   ]
  },
  {
   "cell_type": "markdown",
   "id": "c03d6183",
   "metadata": {},
   "source": [
    "Ζητείται να βρούμε το πολυώνυμο 4ου βαθμού που προσεγγίζει βέλτιστα την συνάρτηση `y = cos(4t) + 0, 1ε(t)` σε 50 ισαπέχοντα σημεία με t μεταξύ 0 και 1. Τα διανύσματα `t` και `y` θα είναι τα εξής:"
   ]
  },
  {
   "cell_type": "code",
   "execution_count": 8,
   "id": "a2981e2d",
   "metadata": {},
   "outputs": [],
   "source": [
    "# 50 ισαπέχοντα σημεία με t μεταξύ 0 και 1\n",
    "t = np.linspace(0, 1, 50)\n",
    "\n",
    "# Σημεία συνάρτησης με θόρυβο\n",
    "y = np.cos(4 * t) + 0.1 * np.random.randn(t.shape[0])\n"
   ]
  },
  {
   "cell_type": "markdown",
   "id": "777436cd",
   "metadata": {},
   "source": [
    "Πρέπει να κατασκευάσουμε έναν πίνακα `A` με τις δυνάμεις του `t` ως στήλες και να λύσουμε το σύστημα `Ax = y`,όπου το `x` είναι το διάνυσμα των συντελεστών του πολυωνύμου, και το `y` είναι το διάνυσμα των παρατηρήσεων. Από την μέθοδο ελάχιστων τετραγώνων γνωρίζω πως πρέπει να λύσω το σύστημα `A.T*A*x = A.T*y`. Για την επίλυση χρησιμοποιούμε 2 τρόπους: παραγοντοποίηση LU και παραγοντοποίηση QR."
   ]
  },
  {
   "cell_type": "code",
   "execution_count": 9,
   "id": "e194eca2",
   "metadata": {},
   "outputs": [],
   "source": [
    "deg = 5 # βαθμός πολυωνύμου\n",
    "y_matrix = np.matrix(y).T\n",
    "\n",
    "A = np.matrix(np.ones((50,deg)))\n",
    "for i in range(50):\n",
    "    for j in range(1,deg):\n",
    "        A[i,j] = t[i] ** j\n",
    "\n",
    "ATA = A.T * A\n",
    "ATy = A.T * y_matrix\n",
    "\n",
    "# Λύση με παραγοντοποίηση LU\n",
    "L, U = LUmine(ATA)\n",
    "c = np.linalg.solve(L, ATy)\n",
    "x_lu = np.linalg.solve(U, c) # διάνυσμα συντελεστών lu\n",
    "    \n",
    "# Λύση με παραγοντοποίηση QR\n",
    "Q, R = QRmine(A.T * A)\n",
    "x_qr = np.linalg.solve(R, Q.T * ATy) # διάνυσμα συντελεστών qr\n",
    "\n",
    "#print(\"x_lu = \\n\",x_lu)\n",
    "#print(\"x_qr = \\n\",x_qr)"
   ]
  },
  {
   "cell_type": "markdown",
   "id": "e2aaa328",
   "metadata": {},
   "source": [
    "Υπολογίζουμε τις τιμές των πολυωνύμων για τα σημεία `t` και το άθροισμα των τετραγωνικών σφαλμάτων που προκύπτουν από την παραπάνω προσέγγιση για κάθε τρόπο."
   ]
  },
  {
   "cell_type": "code",
   "execution_count": 10,
   "id": "b0956e22",
   "metadata": {},
   "outputs": [
    {
     "name": "stdout",
     "output_type": "stream",
     "text": [
      "LU method:  0.31945876417894725\n",
      "QR method:  0.31945876418037644\n"
     ]
    }
   ],
   "source": [
    "import numpy.polynomial.polynomial as poly\n",
    "\n",
    "# Τιμές πολυωνύμων\n",
    "y_lu_pol = poly.polyval(t, x_lu)\n",
    "y_qr_pol = poly.polyval(t, x_qr)\n",
    "\n",
    "\n",
    "# Άθροισμα των τετραγωνικών σφαλμάτων \n",
    "err_lu = np.sum((y - y_lu_pol) ** 2)\n",
    "err_qr = np.sum((y - y_qr_pol) ** 2)\n",
    "print(\"LU method: \", err_lu)\n",
    "print(\"QR method: \", err_qr)"
   ]
  },
  {
   "cell_type": "markdown",
   "id": "3b94e315",
   "metadata": {},
   "source": [
    "Τέλος, σχεδιάζουμε ένα διάγραμμα που περιέχει τα δεδομένα και την καμπύλη βέλτιστης προσέγγισης."
   ]
  },
  {
   "cell_type": "code",
   "execution_count": 11,
   "id": "39980a97",
   "metadata": {},
   "outputs": [
    {
     "data": {
      "image/png": "[encoded data removed]",
      "text/plain": [
       "<Figure size 640x480 with 1 Axes>"
      ]
     },
     "metadata": {},
     "output_type": "display_data"
    }
   ],
   "source": [
    "plt.scatter(t, y, label='Data')\n",
    "\n",
    "plt.plot(t, y_lu_pol.T,'g', label='LU')\n",
    "plt.plot(t, y_qr_pol.T,'r', label='QR', linestyle=\":\")\n",
    "\n",
    "plt.xlabel('t')\n",
    "plt.ylabel('y')\n",
    "plt.legend()\n",
    "plt.show()"
   ]
  },
  {
   "cell_type": "markdown",
   "id": "e571ba1b",
   "metadata": {},
   "source": [
    "## Πηγές\n",
    "* Algorithms for the QR-Decomposition-WALTER GANDER\n",
    "* https://python.quantecon.org/qr_decomp.html\n",
    "* https://www.geeksforgeeks.org/numpy-matrix-python\n",
    "* https://www.geeksforgeeks.org/graph-plotting-in-python-set-1"
   ]
  }
 ],
 "metadata": {
  "kernelspec": {
   "display_name": "Python 3 (ipykernel)",
   "language": "python",
   "name": "python3"
  },
  "language_info": {
   "codemirror_mode": {
    "name": "ipython",
    "version": 3
   },
   "file_extension": ".py",
   "mimetype": "text/x-python",
   "name": "python",
   "nbconvert_exporter": "python",
   "pygments_lexer": "ipython3",
   "version": "3.10.13"
  }
 },
 "nbformat": 4,
 "nbformat_minor": 5
}
